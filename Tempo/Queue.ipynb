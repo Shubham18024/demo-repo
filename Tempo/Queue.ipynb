{
 "cells": [
  {
   "cell_type": "code",
   "execution_count": null,
   "id": "cb3e0a06",
   "metadata": {},
   "outputs": [],
   "source": [
    "class Queue:\n",
    "    def __init__(self):\n",
    "        self.items = []\n",
    "\n",
    "    def is_empty(self):\n",
    "        return len(self.items) == 0\n",
    "\n",
    "    def enqueue(self, item):\n",
    "        self.items.append(item)\n",
    "\n",
    "    def dequeue(self):\n",
    "        if not self.is_empty():\n",
    "            return self.items.pop(0)\n",
    "        else:\n",
    "            raise Empty(\"Queue is empty\")\n",
    "\n",
    "    def front(self):\n",
    "        if not self.is_empty():\n",
    "            return self.items[0]\n",
    "        else:\n",
    "            raise Empty(\"Queue is empty\")\n",
    "\n",
    "    def size(self):\n",
    "        return len(self.items)\n",
    "    \n",
    "    def show(self):\n",
    "        return self.items\n",
    "    \n",
    "class Empty(Exception):\n",
    "    '''Error attempting to access an element from an empty container.'''\n",
    "    pass\n"
   ]
  },
  {
   "cell_type": "code",
   "execution_count": null,
   "id": "6e3f3904",
   "metadata": {},
   "outputs": [],
   "source": [
    "def main():\n",
    "    q = Queue()\n",
    "    print(\"*** QUEUE ***\")\n",
    "    while True:\n",
    "        print(\"\\n1. Enqueue\")\n",
    "        print(\"2. Dequeue\")\n",
    "        print(\"3. Front element\")\n",
    "        print(\"4. Size of Queue\")\n",
    "        print(\"5. Show Whole Queue\")\n",
    "        print(\"6. Exit\")\n",
    "        \n",
    "        choice = int(input(\"Enter your choice: \"))\n",
    "        if choice == 1:\n",
    "            value = eval(input(\"Enter the value to be inserted: \"))\n",
    "            q.enqueue(value)\n",
    "            print(f\"{value} inserted at the end.\")\n",
    "        elif choice == 2:\n",
    "            print(q.dequeue())\n",
    "        elif choice == 3:\n",
    "            print(q.front())\n",
    "        elif choice == 4:\n",
    "            print(q.size())\n",
    "        elif choice == 5:\n",
    "            print(q.show())\n",
    "        elif choice == 6:\n",
    "            print(\"Exiting program. Goodbye! (❁´◡`❁) \")\n",
    "            break\n",
    "        else:\n",
    "            print(\"Invalid Choice. Please try again.\")\n",
    "        \n",
    "if __name__ == \"__main__\":\n",
    "    main()\n"
   ]
  },
  {
   "cell_type": "code",
   "execution_count": null,
   "id": "5b439b7a",
   "metadata": {},
   "outputs": [],
   "source": []
  }
 ],
 "metadata": {
  "kernelspec": {
   "display_name": "Python 3 (ipykernel)",
   "language": "python",
   "name": "python3"
  },
  "language_info": {
   "codemirror_mode": {
    "name": "ipython",
    "version": 3
   },
   "file_extension": ".py",
   "mimetype": "text/x-python",
   "name": "python",
   "nbconvert_exporter": "python",
   "pygments_lexer": "ipython3",
   "version": "3.11.1"
  }
 },
 "nbformat": 4,
 "nbformat_minor": 5
}
